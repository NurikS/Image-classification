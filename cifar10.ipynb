{
  "nbformat": 4,
  "nbformat_minor": 0,
  "metadata": {
    "colab": {
      "name": "cifar10.ipynb",
      "version": "0.3.2",
      "provenance": []
    },
    "kernelspec": {
      "name": "python3",
      "display_name": "Python 3"
    },
    "accelerator": "GPU"
  },
  "cells": [
    {
      "cell_type": "markdown",
      "metadata": {
        "id": "view-in-github",
        "colab_type": "text"
      },
      "source": [
        "[View in Colaboratory](https://colab.research.google.com/github/NurikS/Image-classification/blob/master/cifar10.ipynb)"
      ]
    },
    {
      "metadata": {
        "id": "ps6VA4r1C_wm",
        "colab_type": "text"
      },
      "cell_type": "markdown",
      "source": [
        "# Classifying images from cifar-10 dataset using Keras\n"
      ]
    },
    {
      "metadata": {
        "id": "T6hmBuIyjRUu",
        "colab_type": "code",
        "colab": {
          "base_uri": "https://localhost:8080/",
          "height": 34
        },
        "outputId": "1394fad6-d68e-426d-e47d-32f5424e6eb0"
      },
      "cell_type": "code",
      "source": [
        "import numpy as np\n",
        "from keras.datasets import cifar10\n",
        "from keras.models import Sequential\n",
        "from keras.layers import Dense, Flatten\n",
        "from keras.layers import Dropout\n",
        "from keras.layers.convolutional import Conv2D, MaxPooling2D\n",
        "from keras.utils import np_utils\n",
        "from keras.preprocessing import image\n",
        "import matplotlib.pyplot as plt\n",
        "from scipy.misc import toimage\n",
        "%matplotlib inline "
      ],
      "execution_count": 1,
      "outputs": [
        {
          "output_type": "stream",
          "text": [
            "Using TensorFlow backend.\n"
          ],
          "name": "stderr"
        }
      ]
    },
    {
      "metadata": {
        "id": "PfEKaHglj2VL",
        "colab_type": "code",
        "colab": {}
      },
      "cell_type": "code",
      "source": [
        "# the size of the batch fed to the neural net\n",
        "batch_size = 32\n",
        "# number of classes in the dataset\n",
        "nb_classes = 10\n",
        "# number of epochs\n",
        "nb_epoch = 25\n",
        "# image size\n",
        "img_rows, img_cols = 32, 32\n",
        "# number of channels in an image: RGB\n",
        "img_channels = 3\n",
        "# labels in the dataset\n",
        "classes=['plane', 'car', 'bird', 'cat', 'deer', 'dog', 'frog', 'horse', 'boat', 'truck']"
      ],
      "execution_count": 0,
      "outputs": []
    },
    {
      "metadata": {
        "id": "Tt2d0pKXDR1c",
        "colab_type": "text"
      },
      "cell_type": "markdown",
      "source": [
        "## Data preprocessing"
      ]
    },
    {
      "metadata": {
        "id": "kzQx_ZOZDNYV",
        "colab_type": "text"
      },
      "cell_type": "markdown",
      "source": [
        "**Loading data**"
      ]
    },
    {
      "metadata": {
        "id": "ARLcknFUj4Oc",
        "colab_type": "code",
        "colab": {
          "base_uri": "https://localhost:8080/",
          "height": 51
        },
        "outputId": "c6f1baea-a537-46c2-cb18-27bd87bc9cb2"
      },
      "cell_type": "code",
      "source": [
        "(X_train, y_train), (X_test, y_test) = cifar10.load_data()"
      ],
      "execution_count": 4,
      "outputs": [
        {
          "output_type": "stream",
          "text": [
            "Downloading data from https://www.cs.toronto.edu/~kriz/cifar-10-python.tar.gz\n",
            "170500096/170498071 [==============================] - 14s 0us/step\n"
          ],
          "name": "stdout"
        }
      ]
    },
    {
      "metadata": {
        "id": "1EJSbfDoDrnV",
        "colab_type": "text"
      },
      "cell_type": "markdown",
      "source": [
        "**View data samples**"
      ]
    },
    {
      "metadata": {
        "id": "KCXgj92ckE-J",
        "colab_type": "code",
        "colab": {
          "base_uri": "https://localhost:8080/",
          "height": 300
        },
        "outputId": "18f3bd90-835b-41d2-ced6-92a30100b724"
      },
      "cell_type": "code",
      "source": [
        "n = 9000\n",
        "plt.imshow(toimage(X_train[n]))\n",
        "plt.show()\n",
        "print(\"number of the class:\", y_train[n])\n",
        "print(\"Object:\", classes[y_train[n][0]])"
      ],
      "execution_count": 7,
      "outputs": [
        {
          "output_type": "display_data",
          "data": {
            "image/png": "[encoded data removed]",
            "text/plain": [
              "<matplotlib.figure.Figure at 0x7fcc07fc2ef0>"
            ]
          },
          "metadata": {
            "tags": []
          }
        },
        {
          "output_type": "stream",
          "text": [
            "number of the class: [4]\n",
            "Object: deer\n"
          ],
          "name": "stdout"
        }
      ]
    },
    {
      "metadata": {
        "id": "2kyCZJECE5Vu",
        "colab_type": "text"
      },
      "cell_type": "markdown",
      "source": [
        "**Normalize the data**"
      ]
    },
    {
      "metadata": {
        "id": "C33r-0yNkJUA",
        "colab_type": "code",
        "colab": {}
      },
      "cell_type": "code",
      "source": [
        "X_train = X_train.astype('float32')\n",
        "X_test = X_test.astype('float32')\n",
        "X_train /= 255\n",
        "X_test /= 255"
      ],
      "execution_count": 0,
      "outputs": []
    },
    {
      "metadata": {
        "id": "qj07Mr7CE9Zt",
        "colab_type": "text"
      },
      "cell_type": "markdown",
      "source": [
        "**Use one-hot encoding to convert the answer to categorical format**"
      ]
    },
    {
      "metadata": {
        "id": "VHzeTThQFEs1",
        "colab_type": "code",
        "colab": {}
      },
      "cell_type": "code",
      "source": [
        "Y_train = np_utils.to_categorical(y_train, nb_classes)\n",
        "Y_test = np_utils.to_categorical(y_test, nb_classes)"
      ],
      "execution_count": 0,
      "outputs": []
    },
    {
      "metadata": {
        "id": "mnT8h77PFLXu",
        "colab_type": "text"
      },
      "cell_type": "markdown",
      "source": [
        "## Build the model"
      ]
    },
    {
      "metadata": {
        "id": "U0MLXRCqkPGC",
        "colab_type": "code",
        "colab": {}
      },
      "cell_type": "code",
      "source": [
        "# Create the sequential model\n",
        "model = Sequential()\n",
        "# First convolutional layer\n",
        "model.add(Conv2D(32, (3, 3), padding='same',\n",
        "                        input_shape=(32, 32, 3), activation='relu'))\n",
        "# Second convolutional layer\n",
        "model.add(Conv2D(32, (3, 3), activation='relu', padding='same'))\n",
        "# First pooling layer\n",
        "model.add(MaxPooling2D(pool_size=(2, 2)))\n",
        "# Dropout layer\n",
        "model.add(Dropout(0.25))\n",
        "\n",
        "# Third convolutional layer\n",
        "model.add(Conv2D(64, (3, 3), padding='same', activation='relu'))\n",
        "# Fourth convolutional layer\n",
        "model.add(Conv2D(64, (3, 3), activation='relu'))\n",
        "# Second pooling layer\n",
        "model.add(MaxPooling2D(pool_size=(2, 2)))\n",
        "# Dropout layer\n",
        "model.add(Dropout(0.25))\n",
        "# Flattening 2D representation \n",
        "model.add(Flatten())\n",
        "# Fully connected layer\n",
        "model.add(Dense(512, activation='relu'))\n",
        "# Dropout layer\n",
        "model.add(Dropout(0.5))\n",
        "# Output layer\n",
        "model.add(Dense(nb_classes, activation='softmax'))"
      ],
      "execution_count": 0,
      "outputs": []
    },
    {
      "metadata": {
        "id": "hBCmSlqqFgvd",
        "colab_type": "text"
      },
      "cell_type": "markdown",
      "source": [
        "**Info about our model**"
      ]
    },
    {
      "metadata": {
        "id": "QwTq8WR1Frx9",
        "colab_type": "code",
        "colab": {
          "base_uri": "https://localhost:8080/",
          "height": 561
        },
        "outputId": "78624322-a1b0-4103-d4a9-cef7ef46e223"
      },
      "cell_type": "code",
      "source": [
        "print(model.summary())"
      ],
      "execution_count": 12,
      "outputs": [
        {
          "output_type": "stream",
          "text": [
            "_________________________________________________________________\n",
            "Layer (type)                 Output Shape              Param #   \n",
            "=================================================================\n",
            "conv2d_1 (Conv2D)            (None, 32, 32, 32)        896       \n",
            "_________________________________________________________________\n",
            "conv2d_2 (Conv2D)            (None, 32, 32, 32)        9248      \n",
            "_________________________________________________________________\n",
            "max_pooling2d_1 (MaxPooling2 (None, 16, 16, 32)        0         \n",
            "_________________________________________________________________\n",
            "dropout_1 (Dropout)          (None, 16, 16, 32)        0         \n",
            "_________________________________________________________________\n",
            "conv2d_3 (Conv2D)            (None, 16, 16, 64)        18496     \n",
            "_________________________________________________________________\n",
            "conv2d_4 (Conv2D)            (None, 14, 14, 64)        36928     \n",
            "_________________________________________________________________\n",
            "max_pooling2d_2 (MaxPooling2 (None, 7, 7, 64)          0         \n",
            "_________________________________________________________________\n",
            "dropout_2 (Dropout)          (None, 7, 7, 64)          0         \n",
            "_________________________________________________________________\n",
            "flatten_1 (Flatten)          (None, 3136)              0         \n",
            "_________________________________________________________________\n",
            "dense_1 (Dense)              (None, 512)               1606144   \n",
            "_________________________________________________________________\n",
            "dropout_3 (Dropout)          (None, 512)               0         \n",
            "_________________________________________________________________\n",
            "dense_2 (Dense)              (None, 10)                5130      \n",
            "=================================================================\n",
            "Total params: 1,676,842\n",
            "Trainable params: 1,676,842\n",
            "Non-trainable params: 0\n",
            "_________________________________________________________________\n",
            "None\n"
          ],
          "name": "stdout"
        }
      ]
    },
    {
      "metadata": {
        "id": "iZ8E1aF0FS1s",
        "colab_type": "text"
      },
      "cell_type": "markdown",
      "source": [
        "**Compiling the model**"
      ]
    },
    {
      "metadata": {
        "id": "VyVlJMdGkrv-",
        "colab_type": "code",
        "colab": {}
      },
      "cell_type": "code",
      "source": [
        "model.compile(loss='categorical_crossentropy',\n",
        "              optimizer='adam',\n",
        "              metrics=['accuracy'])"
      ],
      "execution_count": 0,
      "outputs": []
    },
    {
      "metadata": {
        "id": "Aq23si1YFYhF",
        "colab_type": "text"
      },
      "cell_type": "markdown",
      "source": [
        "## Training the convolutional neural net"
      ]
    },
    {
      "metadata": {
        "id": "kyH5Ec9RkznF",
        "colab_type": "code",
        "colab": {
          "base_uri": "https://localhost:8080/",
          "height": 884
        },
        "outputId": "07da1e74-fcec-4664-ad65-dadf87f615d7"
      },
      "cell_type": "code",
      "source": [
        "history = model.fit(X_train, Y_train,\n",
        "              batch_size=batch_size,\n",
        "              epochs=nb_epoch,\n",
        "              validation_split=0.1,\n",
        "              shuffle=True,\n",
        "              verbose=2)"
      ],
      "execution_count": 15,
      "outputs": [
        {
          "output_type": "stream",
          "text": [
            "Train on 45000 samples, validate on 5000 samples\n",
            "Epoch 1/25\n",
            " - 27s - loss: 1.5750 - acc: 0.4232 - val_loss: 1.2196 - val_acc: 0.5714\n",
            "Epoch 2/25\n",
            " - 25s - loss: 1.1517 - acc: 0.5899 - val_loss: 0.9384 - val_acc: 0.6790\n",
            "Epoch 3/25\n",
            " - 25s - loss: 0.9793 - acc: 0.6571 - val_loss: 0.8505 - val_acc: 0.7046\n",
            "Epoch 4/25\n",
            " - 25s - loss: 0.8861 - acc: 0.6904 - val_loss: 0.7951 - val_acc: 0.7278\n",
            "Epoch 5/25\n",
            " - 25s - loss: 0.8198 - acc: 0.7127 - val_loss: 0.7360 - val_acc: 0.7474\n",
            "Epoch 6/25\n",
            " - 25s - loss: 0.7697 - acc: 0.7310 - val_loss: 0.8203 - val_acc: 0.7128\n",
            "Epoch 7/25\n",
            " - 25s - loss: 0.7286 - acc: 0.7428 - val_loss: 0.6935 - val_acc: 0.7608\n",
            "Epoch 8/25\n",
            " - 25s - loss: 0.6983 - acc: 0.7557 - val_loss: 0.6773 - val_acc: 0.7660\n",
            "Epoch 9/25\n",
            " - 25s - loss: 0.6654 - acc: 0.7679 - val_loss: 0.6665 - val_acc: 0.7734\n",
            "Epoch 10/25\n",
            " - 25s - loss: 0.6371 - acc: 0.7762 - val_loss: 0.6490 - val_acc: 0.7810\n",
            "Epoch 11/25\n",
            " - 25s - loss: 0.6173 - acc: 0.7804 - val_loss: 0.6671 - val_acc: 0.7762\n",
            "Epoch 12/25\n",
            " - 25s - loss: 0.5991 - acc: 0.7875 - val_loss: 0.6276 - val_acc: 0.7860\n",
            "Epoch 13/25\n",
            " - 25s - loss: 0.5774 - acc: 0.7964 - val_loss: 0.6649 - val_acc: 0.7794\n",
            "Epoch 14/25\n",
            " - 25s - loss: 0.5576 - acc: 0.8039 - val_loss: 0.6462 - val_acc: 0.7840\n",
            "Epoch 15/25\n",
            " - 25s - loss: 0.5374 - acc: 0.8108 - val_loss: 0.6273 - val_acc: 0.7944\n",
            "Epoch 16/25\n",
            " - 25s - loss: 0.5237 - acc: 0.8155 - val_loss: 0.6263 - val_acc: 0.7932\n",
            "Epoch 17/25\n",
            " - 25s - loss: 0.5213 - acc: 0.8163 - val_loss: 0.6153 - val_acc: 0.7998\n",
            "Epoch 18/25\n",
            " - 25s - loss: 0.5055 - acc: 0.8226 - val_loss: 0.6336 - val_acc: 0.7952\n",
            "Epoch 19/25\n",
            " - 25s - loss: 0.4935 - acc: 0.8257 - val_loss: 0.6300 - val_acc: 0.7940\n",
            "Epoch 20/25\n",
            " - 25s - loss: 0.4810 - acc: 0.8301 - val_loss: 0.6281 - val_acc: 0.8016\n",
            "Epoch 21/25\n",
            " - 25s - loss: 0.4775 - acc: 0.8320 - val_loss: 0.6511 - val_acc: 0.7960\n",
            "Epoch 22/25\n",
            " - 25s - loss: 0.4643 - acc: 0.8349 - val_loss: 0.6832 - val_acc: 0.7788\n",
            "Epoch 23/25\n",
            " - 25s - loss: 0.4547 - acc: 0.8394 - val_loss: 0.6458 - val_acc: 0.7962\n",
            "Epoch 24/25\n",
            " - 25s - loss: 0.4426 - acc: 0.8459 - val_loss: 0.6408 - val_acc: 0.8000\n",
            "Epoch 25/25\n",
            " - 25s - loss: 0.4425 - acc: 0.8456 - val_loss: 0.6288 - val_acc: 0.7998\n"
          ],
          "name": "stdout"
        }
      ]
    },
    {
      "metadata": {
        "id": "bHssPqMqF9sv",
        "colab_type": "text"
      },
      "cell_type": "markdown",
      "source": [
        "## Evaluate the model"
      ]
    },
    {
      "metadata": {
        "id": "5y4AHwlNou5y",
        "colab_type": "code",
        "colab": {
          "base_uri": "https://localhost:8080/",
          "height": 34
        },
        "outputId": "8dc66387-6dfc-456d-c69a-c8df4d41cfdd"
      },
      "cell_type": "code",
      "source": [
        "# Evaluate the model on the test dataset\n",
        "scores = model.evaluate(X_test, Y_test, verbose=0)\n",
        "print(\"Accuracy of the model on the test data: %.2f%%\" % (scores[1]*100))"
      ],
      "execution_count": 33,
      "outputs": [
        {
          "output_type": "stream",
          "text": [
            "Accuracy of the model on the test data: 78.45%\n"
          ],
          "name": "stdout"
        }
      ]
    },
    {
      "metadata": {
        "id": "Z_xxp2UrNJvz",
        "colab_type": "code",
        "colab": {
          "base_uri": "https://localhost:8080/",
          "height": 279
        },
        "outputId": "014a0201-ec31-4105-8a98-d2a2f20b6add"
      },
      "cell_type": "code",
      "source": [
        "history_dict = history.history\n",
        "acc_values = history_dict['acc']\n",
        "val_acc_values = history_dict['val_acc']\n",
        "epochs = range(1, len(acc_values) + 1)\n",
        "plt.plot(epochs, acc_values, 'bo', label='Training acc')\n",
        "plt.plot(epochs, val_acc_values, 'b', label='Validation acc')\n",
        "plt.xlabel('Epochs')\n",
        "plt.ylabel('Accuracy')\n",
        "plt.legend()\n",
        "plt.show()"
      ],
      "execution_count": 18,
      "outputs": [
        {
          "output_type": "display_data",
          "data": {
            "image/png": "[encoded data removed]",
            "text/plain": [
              "<matplotlib.figure.Figure at 0x7fcc07592a90>"
            ]
          },
          "metadata": {
            "tags": []
          }
        }
      ]
    },
    {
      "metadata": {
        "id": "CDf9Gw19GIGO",
        "colab_type": "text"
      },
      "cell_type": "markdown",
      "source": [
        "## Use the model to classify images"
      ]
    },
    {
      "metadata": {
        "id": "wFujwhUEGWOG",
        "colab_type": "text"
      },
      "cell_type": "markdown",
      "source": [
        "**View the test data sample**"
      ]
    },
    {
      "metadata": {
        "id": "bxaxjSOAGOPX",
        "colab_type": "code",
        "colab": {
          "base_uri": "https://localhost:8080/",
          "height": 266
        },
        "outputId": "aeb65a79-6620-4c1d-f712-f22f4746dc67"
      },
      "cell_type": "code",
      "source": [
        "index=1000\n",
        "plt.imshow(toimage(X_test[index]))\n",
        "plt.show()"
      ],
      "execution_count": 25,
      "outputs": [
        {
          "output_type": "display_data",
          "data": {
            "image/png": "[encoded data removed]",
            "text/plain": [
              "<matplotlib.figure.Figure at 0x7fcbd8a7c278>"
            ]
          },
          "metadata": {
            "tags": []
          }
        }
      ]
    },
    {
      "metadata": {
        "id": "ByO-DUMJGc32",
        "colab_type": "text"
      },
      "cell_type": "markdown",
      "source": [
        "**Preprocessing the test image**"
      ]
    },
    {
      "metadata": {
        "id": "kvZbyn6xGhUe",
        "colab_type": "code",
        "colab": {}
      },
      "cell_type": "code",
      "source": [
        "x = X_test[index]\n",
        "x = np.expand_dims(x, axis=0)"
      ],
      "execution_count": 0,
      "outputs": []
    },
    {
      "metadata": {
        "id": "hxcp2FfPGog1",
        "colab_type": "text"
      },
      "cell_type": "markdown",
      "source": [
        "**Predict**"
      ]
    },
    {
      "metadata": {
        "id": "Ap72-9_kNKU2",
        "colab_type": "code",
        "colab": {}
      },
      "cell_type": "code",
      "source": [
        "prediction = model.predict(x)"
      ],
      "execution_count": 0,
      "outputs": []
    },
    {
      "metadata": {
        "id": "2Gldpmn2NQ6-",
        "colab_type": "text"
      },
      "cell_type": "markdown",
      "source": [
        "**Print out the prediction**"
      ]
    },
    {
      "metadata": {
        "id": "P7opRiSZNUku",
        "colab_type": "code",
        "colab": {
          "base_uri": "https://localhost:8080/",
          "height": 51
        },
        "outputId": "35eb0922-a983-40f2-c7d1-48a36886ca1a"
      },
      "cell_type": "code",
      "source": [
        "print(prediction)"
      ],
      "execution_count": 28,
      "outputs": [
        {
          "output_type": "stream",
          "text": [
            "[[9.5330703e-09 9.4136843e-10 2.6538866e-03 3.2751307e-02 2.8818353e-05\n",
            "  9.6412700e-01 1.9284082e-05 4.1965861e-04 1.6019877e-09 1.2881378e-08]]\n"
          ],
          "name": "stdout"
        }
      ]
    },
    {
      "metadata": {
        "id": "LQTiyEM3NfRG",
        "colab_type": "text"
      },
      "cell_type": "markdown",
      "source": [
        "**Convert the answer from one-hot encoding to the class number**"
      ]
    },
    {
      "metadata": {
        "id": "XVC_dTGqNohG",
        "colab_type": "code",
        "colab": {
          "base_uri": "https://localhost:8080/",
          "height": 34
        },
        "outputId": "07b065e4-9190-4caa-c90a-92fccdf34dc6"
      },
      "cell_type": "code",
      "source": [
        "prediction = np.argmax(prediction)\n",
        "print(classes[prediction])"
      ],
      "execution_count": 29,
      "outputs": [
        {
          "output_type": "stream",
          "text": [
            "dog\n"
          ],
          "name": "stdout"
        }
      ]
    },
    {
      "metadata": {
        "id": "zJy8tKjuNyD2",
        "colab_type": "text"
      },
      "cell_type": "markdown",
      "source": [
        "**Print the answer**"
      ]
    },
    {
      "metadata": {
        "id": "0zoGlCZWN2Id",
        "colab_type": "code",
        "colab": {
          "base_uri": "https://localhost:8080/",
          "height": 34
        },
        "outputId": "655084af-ba0b-44d2-9528-36a3ab17525e"
      },
      "cell_type": "code",
      "source": [
        "print(classes[y_test[index][0]])"
      ],
      "execution_count": 32,
      "outputs": [
        {
          "output_type": "stream",
          "text": [
            "dog\n"
          ],
          "name": "stdout"
        }
      ]
    }
  ]
}